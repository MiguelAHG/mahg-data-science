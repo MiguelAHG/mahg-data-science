{
 "cells": [
  {
   "cell_type": "markdown",
   "id": "interesting-revolution",
   "metadata": {},
   "source": [
    "# \"Coding the Naive Bayes Algorithm as a Spam Filter\"\n",
    "\n",
    "> \"I code a multinomial naive bayes algorithm, step-by-step, in order to identify messages as spam or non-spam.\"\n",
    "\n",
    "- author: Migs Germar\n",
    "- toc: true\n",
    "- branch: master\n",
    "- badges: true\n",
    "- comments: true\n",
    "- categories: [python, pandas, numpy, matplotlib, seaborn, altair]\n",
    "- hide: true\n",
    "- search_exclude: true\n",
    "- image: images/logo.png"
   ]
  },
  {
   "cell_type": "markdown",
   "id": "mounted-prime",
   "metadata": {},
   "source": [
    "<center><img src = \"https://miguelahg.github.io/mahg-data-science/images/logo.png\" alt = \"\"></center>\n",
    "\n",
    "<center><a href = \"https://unsplash.com/photos/gKXKBY-C-Dk\">Unsplash | Photographer Name</a></center>"
   ]
  },
  {
   "cell_type": "markdown",
   "id": "aware-valuable",
   "metadata": {},
   "source": [
    "# Overview\n",
    "\n",
    "Paragraphs giving an overview of the project."
   ]
  },
  {
   "cell_type": "markdown",
   "id": "administrative-negotiation",
   "metadata": {},
   "source": [
    "> Note: I wrote this notebook by following a guided project on the [Dataquest](https://www.dataquest.io/) platform, specifically the [Guided Project: name](https://app.dataquest.io/) The general project flow and research questions came from Dataquest. However, all of the text and code here are written by me unless stated otherwise."
   ]
  },
  {
   "cell_type": "markdown",
   "id": "suited-challenge",
   "metadata": {},
   "source": [
    "# Preparations"
   ]
  },
  {
   "cell_type": "code",
   "execution_count": 1,
   "id": "christian-colorado",
   "metadata": {},
   "outputs": [],
   "source": [
    "import pandas as pd\n",
    "import numpy as np\n",
    "import matplotlib.pyplot as plt\n",
    "import seaborn as sns"
   ]
  },
  {
   "cell_type": "markdown",
   "id": "quality-twelve",
   "metadata": {},
   "source": [
    "# Data Inspection\n"
   ]
  }
 ],
 "metadata": {
  "kernelspec": {
   "display_name": "Python 3",
   "language": "python",
   "name": "python3"
  },
  "language_info": {
   "codemirror_mode": {
    "name": "ipython",
    "version": 3
   },
   "file_extension": ".py",
   "mimetype": "text/x-python",
   "name": "python",
   "nbconvert_exporter": "python",
   "pygments_lexer": "ipython3",
   "version": "3.8.5"
  }
 },
 "nbformat": 4,
 "nbformat_minor": 5
}
