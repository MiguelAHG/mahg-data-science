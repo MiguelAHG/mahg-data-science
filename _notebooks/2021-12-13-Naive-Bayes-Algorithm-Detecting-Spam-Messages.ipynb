{
 "cells": [
  {
   "cell_type": "markdown",
   "id": "interesting-revolution",
   "metadata": {},
   "source": [
    "# \"Naive Bayes Algorithm for Detecting Spam Messages\"\n",
    "\n",
    "> \"I code a multinomial naive bayes algorithm, step-by-step, in order to identify messages as spam or non-spam.\"\n",
    "\n",
    "- author: Migs Germar\n",
    "- toc: true\n",
    "- branch: master\n",
    "- badges: true\n",
    "- comments: true\n",
    "- categories: [python, pandas, numpy, matplotlib, seaborn, altair]\n",
    "- hide: true\n",
    "- search_exclude: true\n",
    "- image: images/spam-unsplash-hannes_johnson.jpg"
   ]
  },
  {
   "cell_type": "markdown",
   "id": "mounted-prime",
   "metadata": {},
   "source": [
    "<center><img src = \"https://miguelahg.github.io/mahg-data-science/images/spam-unsplash-hannes_johnson.jpg\" alt = \"\"></center>\n",
    "\n",
    "<center><a href = \"https://unsplash.com/photos/mRgffV3Hc6c\">Unsplash | Hannes Johnson</a></center>"
   ]
  },
  {
   "cell_type": "markdown",
   "id": "aware-valuable",
   "metadata": {},
   "source": [
    "# Introduction\n",
    "\n",
    "The Multinomial Naive Bayes Algorithm is a machine learning algorithm based on the Bayes Theorem. It calculates the probability that an event $B$ occurred given that event $A$ occurred. Thus, it is usually used in classification problems. (Vadapalli, 2021)\n",
    "\n",
    "In this project, we will use the algorithm to determine the probability that a message is spam given its contents. We will then use this probability to decide whether to treat new messages as spam or not. For example, if the probability of being spam is over 50%, then we may treat the message as spam.\n",
    "\n",
    "Identifying spam is important in the Philippines because phishing campaigns went up by 200% after the pandemic began (Devanesan, 2020), and a telecommunications provider recently had to block around 71 million spam messages (Yap, 2021). Such messages may attempt to steal personal information, steal money from an account, or install malware (FTC, 2020). Thus, machine learning can be a very helpful tool in preventing such harm from occurring.\n",
    "\n",
    "Though the algorithm can be easily implemented using existing functions such as those in the [`scikit-learn` package](https://scikit-learn.org/stable/modules/naive_bayes.html#multinomial-naive-bayes), I will manually code the algorithm step-by-step in order to explain the mathematical intuition behind it."
   ]
  },
  {
   "cell_type": "markdown",
   "id": "administrative-negotiation",
   "metadata": {},
   "source": [
    "> Note: I wrote this notebook by following a guided project on the [Dataquest](https://www.dataquest.io/) platform, specifically the [Guided Project: Building a Spam Filter with Naive Bayes](https://app.dataquest.io/c/74/m/433/guided-project%3A-building-a-spam-filter-with-naive-bayes/1/exploring-the-dataset) The general project flow came from Dataquest. The mathematical explanations are also based on what I learned from Dataquest."
   ]
  },
  {
   "cell_type": "markdown",
   "id": "suited-challenge",
   "metadata": {},
   "source": [
    "# Preparations\n",
    "\n",
    "Below are the packages necessary for this project."
   ]
  },
  {
   "cell_type": "code",
   "execution_count": 180,
   "id": "christian-colorado",
   "metadata": {},
   "outputs": [],
   "source": [
    "import pandas as pd\n",
    "import numpy as np\n",
    "import matplotlib.pyplot as plt\n",
    "import seaborn as sns"
   ]
  },
  {
   "cell_type": "markdown",
   "id": "quality-twelve",
   "metadata": {},
   "source": [
    "# The Dataset\n",
    "\n",
    "We will use the SMS Spam Collection Dataset by Almeida and Hidalgo in 2012. It can be downloaded from the [UCI Machine Learning Repository](https://archive.ics.uci.edu/ml/datasets/sms+spam+collection).\n",
    "\n"
   ]
  },
  {
   "cell_type": "code",
   "execution_count": 181,
   "id": "8ee9c057",
   "metadata": {},
   "outputs": [
    {
     "name": "stdout",
     "output_type": "stream",
     "text": [
      "<class 'pandas.core.frame.DataFrame'>\n",
      "RangeIndex: 5572 entries, 0 to 5571\n",
      "Data columns (total 2 columns):\n",
      " #   Column  Non-Null Count  Dtype \n",
      "---  ------  --------------  ----- \n",
      " 0   label   5572 non-null   object\n",
      " 1   sms     5572 non-null   object\n",
      "dtypes: object(2)\n",
      "memory usage: 87.2+ KB\n"
     ]
    }
   ],
   "source": [
    "#collapse-hide\n",
    "sms_df = pd.read_csv(\n",
    "    \"./private/Naive-Bayes-Files/SMSSpamCollection\",\n",
    "    # Tab-separated\n",
    "    sep = \"\\t\",\n",
    "    header = None,\n",
    "    names = [\"label\", \"sms\"]\n",
    ")\n",
    "\n",
    "sms_df.info()"
   ]
  },
  {
   "cell_type": "markdown",
   "id": "f83348e4",
   "metadata": {},
   "source": [
    "The dataset has 2 columns and 5572 rows.\n",
    "\n",
    "- The `label` column contains \"ham\" if the message is legitimate, or \"spam\" if it is spam.\n",
    "- The `sms` column contains individual SMS messages.\n",
    "\n",
    "For example, below are the first 5 rows of the dataset."
   ]
  },
  {
   "cell_type": "code",
   "execution_count": 182,
   "id": "f0347763",
   "metadata": {},
   "outputs": [
    {
     "data": {
      "text/html": [
       "<div>\n",
       "<style scoped>\n",
       "    .dataframe tbody tr th:only-of-type {\n",
       "        vertical-align: middle;\n",
       "    }\n",
       "\n",
       "    .dataframe tbody tr th {\n",
       "        vertical-align: top;\n",
       "    }\n",
       "\n",
       "    .dataframe thead th {\n",
       "        text-align: right;\n",
       "    }\n",
       "</style>\n",
       "<table border=\"1\" class=\"dataframe\">\n",
       "  <thead>\n",
       "    <tr style=\"text-align: right;\">\n",
       "      <th></th>\n",
       "      <th>label</th>\n",
       "      <th>sms</th>\n",
       "    </tr>\n",
       "  </thead>\n",
       "  <tbody>\n",
       "    <tr>\n",
       "      <th>0</th>\n",
       "      <td>ham</td>\n",
       "      <td>Go until jurong point, crazy.. Available only ...</td>\n",
       "    </tr>\n",
       "    <tr>\n",
       "      <th>1</th>\n",
       "      <td>ham</td>\n",
       "      <td>Ok lar... Joking wif u oni...</td>\n",
       "    </tr>\n",
       "    <tr>\n",
       "      <th>2</th>\n",
       "      <td>spam</td>\n",
       "      <td>Free entry in 2 a wkly comp to win FA Cup fina...</td>\n",
       "    </tr>\n",
       "    <tr>\n",
       "      <th>3</th>\n",
       "      <td>ham</td>\n",
       "      <td>U dun say so early hor... U c already then say...</td>\n",
       "    </tr>\n",
       "    <tr>\n",
       "      <th>4</th>\n",
       "      <td>ham</td>\n",
       "      <td>Nah I don't think he goes to usf, he lives aro...</td>\n",
       "    </tr>\n",
       "  </tbody>\n",
       "</table>\n",
       "</div>"
      ],
      "text/plain": [
       "  label                                                sms\n",
       "0   ham  Go until jurong point, crazy.. Available only ...\n",
       "1   ham                      Ok lar... Joking wif u oni...\n",
       "2  spam  Free entry in 2 a wkly comp to win FA Cup fina...\n",
       "3   ham  U dun say so early hor... U c already then say...\n",
       "4   ham  Nah I don't think he goes to usf, he lives aro..."
      ]
     },
     "execution_count": 182,
     "metadata": {},
     "output_type": "execute_result"
    }
   ],
   "source": [
    "#collapse-hide\n",
    "sms_df.head()"
   ]
  },
  {
   "cell_type": "markdown",
   "id": "3794d4b3",
   "metadata": {},
   "source": [
    "# Training and Testing Sets\n",
    "\n",
    "The messages will be split into two sets. The training set, comprising 80% of the total data, will be used to train the Naive Bayes Algorithm. The testing set, with 20% of the total data, will be used to test the model's accuracy.\n",
    "\n",
    "First, however, let us calculate what percentage of the messages in the dataset are spam."
   ]
  },
  {
   "cell_type": "code",
   "execution_count": 183,
   "id": "085c9eac",
   "metadata": {},
   "outputs": [
    {
     "name": "stdout",
     "output_type": "stream",
     "text": [
      "Percentage of spam messages: 13.41%\n"
     ]
    }
   ],
   "source": [
    "#collapse-hide\n",
    "spam_perc = sms_df[\"label\"].eq(\"spam\").sum() / sms_df.shape[0] * 100\n",
    "print(f\"Percentage of spam messages: {spam_perc:.2f}%\")"
   ]
  },
  {
   "cell_type": "markdown",
   "id": "8d793148",
   "metadata": {},
   "source": [
    "Only 13% of the messages are spam. Therefore, spam and non-spam messages are not equally represented in this dataset, and this may be problematic. However, this is all the data we have, so the best we can do is to ensure that both the training and testing sets have around 13% of their messages as spam.\n",
    "\n",
    "This is an example of *proportional stratified sampling*. We first separate the data into two strata (spam and non-spam). We then take 80% of the messages from each strata as the training set. The remaining 20% of each strata is set aside for the testing set.\n",
    "\n",
    "This has been done with the code below."
   ]
  },
  {
   "cell_type": "code",
   "execution_count": 184,
   "id": "cc5e0d63",
   "metadata": {},
   "outputs": [
    {
     "name": "stdout",
     "output_type": "stream",
     "text": [
      "Number of rows in training set: 4458\n",
      "Percentage of training messages that are spam: 13.41%\n",
      "Number of rows in testing set: 1114\n",
      "Percentage of testing messages that are spam: 13.38%\n"
     ]
    }
   ],
   "source": [
    "#collapse-hide\n",
    "# Note: I could have used `train_test_split` from sklearn, but I coded this manually for the sake of grasping the logic.\n",
    "split_lists = {\n",
    "    \"training\": [],\n",
    "    \"testing\": [],\n",
    "}\n",
    "\n",
    "# Stratify the dataset\n",
    "for label in \"spam\", \"ham\":\n",
    "    stratum = sms_df.loc[sms_df[\"label\"] == label]\n",
    "\n",
    "    train_part = stratum.sample(\n",
    "        # Sample 80% of the data points\n",
    "        frac = 0.8,\n",
    "        random_state = 1,\n",
    "    )\n",
    "\n",
    "    # The other 20% that were not sampled go to the testing set.\n",
    "    test_part = stratum.loc[~stratum.index.isin(train_part.index)]\n",
    "\n",
    "    split_lists[\"training\"].append(train_part)\n",
    "    split_lists[\"testing\"].append(test_part)\n",
    "\n",
    "split_dfs = pd.Series(dtype = \"object\")\n",
    "for key in split_lists:\n",
    "    # Concatenate spam and non-spam parts into one DataFrame.\n",
    "    set_df = pd.concat(split_lists[key]).reset_index()\n",
    "    split_dfs[key] = set_df\n",
    "\n",
    "    perc_spam = set_df.label.eq('spam').sum() / set_df.shape[0] * 100\n",
    "\n",
    "    print(f\"Number of rows in {key} set: {set_df.shape[0]}\")\n",
    "    print(f\"Percentage of {key} messages that are spam: {perc_spam:.2f}%\")"
   ]
  },
  {
   "cell_type": "markdown",
   "id": "ac9d4de6",
   "metadata": {},
   "source": [
    "We can see that the percentage of spam messages is roughly the same across the two sets. This will help the accuracy of the model later on.\n",
    "\n",
    "Now, the two sets will be further split into `X` and `y`. `y` refers to the **target**, or the variable that we are trying to predict. In this case, we are trying to predict whether a message is spam or non-spam, so the \"label\" column is the target:"
   ]
  },
  {
   "cell_type": "code",
   "execution_count": 185,
   "id": "b829d88a",
   "metadata": {},
   "outputs": [
    {
     "data": {
      "text/plain": [
       "0     ham\n",
       "1     ham\n",
       "2    spam\n",
       "3     ham\n",
       "4     ham\n",
       "Name: label, dtype: object"
      ]
     },
     "execution_count": 185,
     "metadata": {},
     "output_type": "execute_result"
    }
   ],
   "source": [
    "#collapse-hide\n",
    "sms_df.label.head()"
   ]
  },
  {
   "cell_type": "markdown",
   "id": "565535cc",
   "metadata": {},
   "source": [
    "On the other hand, `X` refers to the **features**, which are information used to predict the target. We only have one feature column as of now, which is the \"sms\" column."
   ]
  },
  {
   "cell_type": "code",
   "execution_count": 186,
   "id": "79d7bdf5",
   "metadata": {},
   "outputs": [
    {
     "data": {
      "text/plain": [
       "0    Go until jurong point, crazy.. Available only ...\n",
       "1                        Ok lar... Joking wif u oni...\n",
       "2    Free entry in 2 a wkly comp to win FA Cup fina...\n",
       "3    U dun say so early hor... U c already then say...\n",
       "4    Nah I don't think he goes to usf, he lives aro...\n",
       "Name: sms, dtype: object"
      ]
     },
     "execution_count": 186,
     "metadata": {},
     "output_type": "execute_result"
    }
   ],
   "source": [
    "#collapse-hide\n",
    "sms_df.sms.head()"
   ]
  },
  {
   "cell_type": "markdown",
   "id": "02e7696d",
   "metadata": {},
   "source": [
    "\n",
    "Thus, we end up with four final objects:\n",
    "\n",
    "- `X_train`: The messages in the training data.\n",
    "- `X_test`: The messages in the testing data.\n",
    "- `y_train`: The labels in the training data. These correspond to `X_train`.\n",
    "- `y_test`: The labels in the testing data. These correspond to `X_test`."
   ]
  },
  {
   "cell_type": "code",
   "execution_count": 187,
   "id": "23d351cd",
   "metadata": {},
   "outputs": [],
   "source": [
    "#collapse-show\n",
    "# The four objects listed above.\n",
    "X_train = split_dfs.training[[\"sms\"]].copy()\n",
    "X_test = split_dfs.testing[[\"sms\"]].copy()\n",
    "y_train = split_dfs.training[\"label\"].copy()\n",
    "y_test = split_dfs.testing[\"label\"].copy()"
   ]
  },
  {
   "cell_type": "markdown",
   "id": "133d0a53",
   "metadata": {},
   "source": [
    "# The Algorithm\n",
    "\n",
    "Now, let's discuss the multinomial naive bayes algorithm. Conditional probability is necessary in order to understand it. For our use case, let $Spam$ be the event that a message is spam, and $Ham$ be the event for non-spam.\n",
    "\n",
    "> Note: The mathematical explanations below are not my own ideas. I learned these from the Dataquest course on Naive Bayes.\n",
    "\n",
    "## Main Formulas\n",
    "\n",
    "We want to compare the probability that a given message is spam to the probability that it is ham. Thus, we use the following formulas:\n",
    "\n",
    "$P(Spam|w_1, w_2, \\dots , w_n) \\propto P(Spam) \\cdot \\Pi_{i=1}^n P(w_i|Spam)$\n",
    "\n",
    "$P(Ham|w_1, w_2, \\dots , w_n) \\propto P(Ham) \\cdot \\Pi_{i=1}^n P(w_i|Ham)$\n",
    "\n",
    "> Note: These formulas are not the same as the Bayes Theorem. To understand how these were derived from the Bayes Theorem, see the Appendix of this post."
   ]
  },
  {
   "cell_type": "markdown",
   "id": "c9a754c1",
   "metadata": {},
   "source": [
    "These two formulas are identical except for the $Spam$ or $Ham$ event. Let us just look at the first equation to unpack it.\n",
    "\n",
    "The probability of event $B$ given that event $A$ has happened can be represented as $P(B|A)$ (\"probability of B given A\"). Thus, the left side of the formula, $P(Spam|w_1, w_2, \\dots , w_n)$, represents the probability of spam given the contents of a message. Each variable $w_i$ represents one word in the message. For example, $w_1$ is the first word in the message, and so on.\n",
    "\n",
    "In the middle, the \"directly proportional to\" sign ($\\propto$) is used instead of the equals sign. The left and right sides are not equal, but one increases as the other increases.\n",
    "\n",
    "At the right side, $P(Spam)$ simply refers to the probability that any message is spam. It can be calculated as the number of spam messages in the dataset over the total number of messages.\n",
    "\n",
    "Finally, the formula ends with $\\Pi_{i=1}^n P(w_i|Spam)$. The $P(w_i|Spam)$ part refers to the probability of a certain word occurring given that the message is known to be spam. We must calculate this probability for each word in the message. Then, because the uppercase pi ($\\Pi$) refers to a product, we must multiply the word probabilities together.\n",
    "\n",
    "## Additive Smoothing and Vocabulary\n",
    "\n",
    "In order to calculate $P(w_i|Spam)$, we need to use the following formula:\n",
    "\n",
    "$P(w_i | Spam) = \\frac{N_{w_i | Spam} + \\alpha}{N_{Spam} + \\alpha \\cdot N_{Vocabulary}}$\n",
    "\n",
    "We use an almost identical equation for $P(w_i|Ham)$ as well:\n",
    "\n",
    "$P(w_i | Ham) = \\frac{N_{w_i | Ham} + \\alpha}{N_{Ham} + \\alpha \\cdot N_{Vocabulary}}$\n",
    "\n",
    "Again, let us just unpack the first formula. $N_{w_i|Spam}$ refers to the number of times that the word appears in the dataset's spam messages.\n",
    "\n",
    "$\\alpha$ is the **additive smoothing parameter**. We will use $\\alpha = 1$. This is added to the numerator to prevent it from becoming zero. If it does become zero, the entire product in the main formula will become zero.\n",
    "\n",
    "$N_{Spam}$ refers to the total number of words in all of the spam messages. Duplicate words are not removed when this is calculated.\n",
    "\n",
    "Lastly, $N_{Vocabulary}$ refers to the number of words in the **vocabulary**. This is the set of all *unique* words found in any of the messages, whether spam or non-spam. Duplicates are removed."
   ]
  },
  {
   "cell_type": "markdown",
   "id": "7b262259",
   "metadata": {},
   "source": [
    "# Implementation\n",
    "\n",
    "Based on the theory behind the algorithm, I have written a set of steps to implement it. I will use these steps as the pseudocode for this project.\n",
    "\n",
    "1. Determine the model **parameters**. These are the variables in the formulas shown earlier. Only the training data will be used for this.\n",
    "    - Find $P(Spam), P(Ham)$.\n",
    "        - Divide the number of spam messages by the total number of messages.\n",
    "        - Do the same for ham messages.\n",
    "    - Preprocess the messages to focus on individual words.\n",
    "        - Make all words lowercase.\n",
    "        - Remove punctuation marks.\n",
    "    - Form a vocabulary. \n",
    "        - Make a set of all the words in the messages, without duplicates.\n",
    "        - $N_{Vocabulary}$ is the number of words in this set.\n",
    "    - Find $N_{Spam}, N_{Ham}$.\n",
    "        - Count the number of times each word appears in each message.\n",
    "        - Count the total number of words in spam messages. Do the same for ham messages.\n",
    "    - Find $N_{w_i|Spam}, N_{w_i|Ham}$ for each word in the vocabulary.\n",
    "        - Sum up the word counts in spam messages to get $N_{w_i|Spam}$.\n",
    "        - Do the same for ham messages to get $N_{w_i|Spam}$.\n",
    "1. Write a **predictive function**. This takes a new message and predicts whether it is spam or not.\n",
    "    - Plug the values that we calculated previously into the equation.\n",
    "    - Return $P(Spam|w_1, w_2, \\dots , w_n)$, $P(Ham|w_1, w_2, \\dots , w_n)$, and the prediction (\"spam\" or \"ham\").\n",
    "1. **Evaluate** the model using the testing data.\n",
    "    - Make predictions for all messages in the testing set.\n",
    "    - Divide the number of correct predictions by the total number of predictions. This will result in the accuracy of the model."
   ]
  },
  {
   "cell_type": "markdown",
   "id": "875dda10",
   "metadata": {},
   "source": [
    "# Model Parameters\n",
    "\n",
    "### $P_{Spam}, P_{Ham}$\n",
    "\n",
    "The probability of spam is equal to the number of spam messages over the total number of messages. The same goes for ham messages."
   ]
  },
  {
   "cell_type": "code",
   "execution_count": 188,
   "id": "27625206",
   "metadata": {},
   "outputs": [
    {
     "name": "stdout",
     "output_type": "stream",
     "text": [
      "P(Spam) = 13.41%\n",
      "P(Ham) = 86.59%\n"
     ]
    }
   ],
   "source": [
    "#collapse-hide\n",
    "p_label = {}\n",
    "p_label[\"spam\"] = y_train.eq(\"spam\").sum() / y_train.shape[0]\n",
    "p_label[\"ham\"] = 1 - p_label[\"spam\"]\n",
    "\n",
    "print(f\"P(Spam) = {p_label['spam'] * 100:.2f}%\")\n",
    "print(f\"P(Ham) = {p_label['ham'] * 100:.2f}%\")"
   ]
  },
  {
   "cell_type": "markdown",
   "id": "d636af99",
   "metadata": {},
   "source": [
    "### Message Preprocessing\n",
    "\n",
    "Below are the messages:"
   ]
  },
  {
   "cell_type": "code",
   "execution_count": 189,
   "id": "c2199aa8",
   "metadata": {},
   "outputs": [
    {
     "data": {
      "text/html": [
       "<div>\n",
       "<style scoped>\n",
       "    .dataframe tbody tr th:only-of-type {\n",
       "        vertical-align: middle;\n",
       "    }\n",
       "\n",
       "    .dataframe tbody tr th {\n",
       "        vertical-align: top;\n",
       "    }\n",
       "\n",
       "    .dataframe thead th {\n",
       "        text-align: right;\n",
       "    }\n",
       "</style>\n",
       "<table border=\"1\" class=\"dataframe\">\n",
       "  <thead>\n",
       "    <tr style=\"text-align: right;\">\n",
       "      <th></th>\n",
       "      <th>sms</th>\n",
       "    </tr>\n",
       "  </thead>\n",
       "  <tbody>\n",
       "    <tr>\n",
       "      <th>0</th>\n",
       "      <td>Marvel Mobile Play the official Ultimate Spide...</td>\n",
       "    </tr>\n",
       "    <tr>\n",
       "      <th>1</th>\n",
       "      <td>Thank you, winner notified by sms. Good Luck! ...</td>\n",
       "    </tr>\n",
       "    <tr>\n",
       "      <th>2</th>\n",
       "      <td>Free msg. Sorry, a service you ordered from 81...</td>\n",
       "    </tr>\n",
       "    <tr>\n",
       "      <th>3</th>\n",
       "      <td>Thanks for your ringtone order, ref number R83...</td>\n",
       "    </tr>\n",
       "    <tr>\n",
       "      <th>4</th>\n",
       "      <td>PRIVATE! Your 2003 Account Statement for shows...</td>\n",
       "    </tr>\n",
       "  </tbody>\n",
       "</table>\n",
       "</div>"
      ],
      "text/plain": [
       "                                                 sms\n",
       "0  Marvel Mobile Play the official Ultimate Spide...\n",
       "1  Thank you, winner notified by sms. Good Luck! ...\n",
       "2  Free msg. Sorry, a service you ordered from 81...\n",
       "3  Thanks for your ringtone order, ref number R83...\n",
       "4  PRIVATE! Your 2003 Account Statement for shows..."
      ]
     },
     "execution_count": 189,
     "metadata": {},
     "output_type": "execute_result"
    }
   ],
   "source": [
    "#collapse-hide\n",
    "X_train.head()"
   ]
  },
  {
   "cell_type": "markdown",
   "id": "e15d584d",
   "metadata": {},
   "source": [
    "In order to get individual words, we make all words lowercase and remove punctuation marks and other non-word characters."
   ]
  },
  {
   "cell_type": "code",
   "execution_count": 190,
   "id": "70e4708f",
   "metadata": {},
   "outputs": [
    {
     "data": {
      "text/html": [
       "<div>\n",
       "<style scoped>\n",
       "    .dataframe tbody tr th:only-of-type {\n",
       "        vertical-align: middle;\n",
       "    }\n",
       "\n",
       "    .dataframe tbody tr th {\n",
       "        vertical-align: top;\n",
       "    }\n",
       "\n",
       "    .dataframe thead th {\n",
       "        text-align: right;\n",
       "    }\n",
       "</style>\n",
       "<table border=\"1\" class=\"dataframe\">\n",
       "  <thead>\n",
       "    <tr style=\"text-align: right;\">\n",
       "      <th></th>\n",
       "      <th>sms</th>\n",
       "    </tr>\n",
       "  </thead>\n",
       "  <tbody>\n",
       "    <tr>\n",
       "      <th>0</th>\n",
       "      <td>[marvel, mobile, play, the, official, ultimate...</td>\n",
       "    </tr>\n",
       "    <tr>\n",
       "      <th>1</th>\n",
       "      <td>[thank, you, winner, notified, by, sms, good, ...</td>\n",
       "    </tr>\n",
       "    <tr>\n",
       "      <th>2</th>\n",
       "      <td>[free, msg, sorry, a, service, you, ordered, f...</td>\n",
       "    </tr>\n",
       "    <tr>\n",
       "      <th>3</th>\n",
       "      <td>[thanks, for, your, ringtone, order, ref, numb...</td>\n",
       "    </tr>\n",
       "    <tr>\n",
       "      <th>4</th>\n",
       "      <td>[private, your, 2003, account, statement, for,...</td>\n",
       "    </tr>\n",
       "  </tbody>\n",
       "</table>\n",
       "</div>"
      ],
      "text/plain": [
       "                                                 sms\n",
       "0  [marvel, mobile, play, the, official, ultimate...\n",
       "1  [thank, you, winner, notified, by, sms, good, ...\n",
       "2  [free, msg, sorry, a, service, you, ordered, f...\n",
       "3  [thanks, for, your, ringtone, order, ref, numb...\n",
       "4  [private, your, 2003, account, statement, for,..."
      ]
     },
     "execution_count": 190,
     "metadata": {},
     "output_type": "execute_result"
    }
   ],
   "source": [
    "#collapse-hide\n",
    "def preprocess_messages(series):\n",
    "    result = (\n",
    "        series\n",
    "        .str.lower()\n",
    "        # Delete all non-word characters.\n",
    "        .str.replace(r\"[^a-z0-9 ]\", \"\", regex = True)\n",
    "        .str.strip()\n",
    "        .str.split()\n",
    "    )\n",
    "\n",
    "    return result\n",
    "\n",
    "X_train = pd.DataFrame(preprocess_messages(X_train.sms))\n",
    "\n",
    "X_train.head()"
   ]
  },
  {
   "cell_type": "markdown",
   "id": "6688f586",
   "metadata": {},
   "source": [
    "### Vocabulary\n",
    "\n",
    "Using the preprocessed messages, we can form a set of all of the unique words that they contain."
   ]
  },
  {
   "cell_type": "code",
   "execution_count": 191,
   "id": "5e51db73",
   "metadata": {},
   "outputs": [
    {
     "name": "stdout",
     "output_type": "stream",
     "text": [
      "Number of words in the vocabulary: 8385\n",
      "First few items:\n"
     ]
    },
    {
     "data": {
      "text/plain": [
       "['ptbo',\n",
       " 'unsecured',\n",
       " '0808',\n",
       " 'brothers',\n",
       " 'invnted',\n",
       " '08702490080',\n",
       " 'funny',\n",
       " 'shining',\n",
       " 'jason',\n",
       " 'kills']"
      ]
     },
     "execution_count": 191,
     "metadata": {},
     "output_type": "execute_result"
    }
   ],
   "source": [
    "#collapse-hide\n",
    "vocab = set()\n",
    "for lst in X_train.sms:\n",
    "    vocab.update(lst)\n",
    "\n",
    "# Use a Series to delete items that are blank or only contain whitespace.\n",
    "vocab_series = pd.Series(list(vocab))\n",
    "vocab_series = vocab_series.loc[~vocab_series.str.match(\"^\\s*$\")]\n",
    "vocab = set(vocab_series)\n",
    "\n",
    "n_vocab = len(vocab)\n",
    "\n",
    "print(f\"Number of words in the vocabulary: {n_vocab}\\nFirst few items:\")\n",
    "list(vocab)[:10]"
   ]
  },
  {
   "cell_type": "markdown",
   "id": "e6960ae6",
   "metadata": {},
   "source": [
    "Above are the first 10 items in the vocabulary. In total, $N_{Vocabulary} = 8385$."
   ]
  },
  {
   "cell_type": "markdown",
   "id": "3dd39ffb",
   "metadata": {},
   "source": [
    "### $N_{Spam}, N_{Ham}$\n",
    "\n",
    "Using the vocabulary, we can transform the messages to show the number of times that each word appears in each message."
   ]
  },
  {
   "cell_type": "code",
   "execution_count": 192,
   "id": "b13e04a6",
   "metadata": {},
   "outputs": [
    {
     "data": {
      "text/html": [
       "<div>\n",
       "<style scoped>\n",
       "    .dataframe tbody tr th:only-of-type {\n",
       "        vertical-align: middle;\n",
       "    }\n",
       "\n",
       "    .dataframe tbody tr th {\n",
       "        vertical-align: top;\n",
       "    }\n",
       "\n",
       "    .dataframe thead th {\n",
       "        text-align: right;\n",
       "    }\n",
       "</style>\n",
       "<table border=\"1\" class=\"dataframe\">\n",
       "  <thead>\n",
       "    <tr style=\"text-align: right;\">\n",
       "      <th></th>\n",
       "      <th>0</th>\n",
       "      <th>008704050406</th>\n",
       "      <th>0089my</th>\n",
       "      <th>0121</th>\n",
       "      <th>01223585236</th>\n",
       "      <th>01223585334</th>\n",
       "      <th>0125698789</th>\n",
       "      <th>020603</th>\n",
       "      <th>0207</th>\n",
       "      <th>02070836089</th>\n",
       "      <th>...</th>\n",
       "      <th>zebra</th>\n",
       "      <th>zed</th>\n",
       "      <th>zeros</th>\n",
       "      <th>zhong</th>\n",
       "      <th>zindgi</th>\n",
       "      <th>zoe</th>\n",
       "      <th>zogtorius</th>\n",
       "      <th>zoom</th>\n",
       "      <th>zouk</th>\n",
       "      <th>zyada</th>\n",
       "    </tr>\n",
       "  </thead>\n",
       "  <tbody>\n",
       "    <tr>\n",
       "      <th>0</th>\n",
       "      <td>0</td>\n",
       "      <td>0</td>\n",
       "      <td>0</td>\n",
       "      <td>0</td>\n",
       "      <td>0</td>\n",
       "      <td>0</td>\n",
       "      <td>0</td>\n",
       "      <td>0</td>\n",
       "      <td>0</td>\n",
       "      <td>0</td>\n",
       "      <td>...</td>\n",
       "      <td>0</td>\n",
       "      <td>0</td>\n",
       "      <td>0</td>\n",
       "      <td>0</td>\n",
       "      <td>0</td>\n",
       "      <td>0</td>\n",
       "      <td>0</td>\n",
       "      <td>0</td>\n",
       "      <td>0</td>\n",
       "      <td>0</td>\n",
       "    </tr>\n",
       "    <tr>\n",
       "      <th>1</th>\n",
       "      <td>0</td>\n",
       "      <td>0</td>\n",
       "      <td>0</td>\n",
       "      <td>0</td>\n",
       "      <td>0</td>\n",
       "      <td>0</td>\n",
       "      <td>0</td>\n",
       "      <td>0</td>\n",
       "      <td>0</td>\n",
       "      <td>0</td>\n",
       "      <td>...</td>\n",
       "      <td>0</td>\n",
       "      <td>0</td>\n",
       "      <td>0</td>\n",
       "      <td>0</td>\n",
       "      <td>0</td>\n",
       "      <td>0</td>\n",
       "      <td>0</td>\n",
       "      <td>0</td>\n",
       "      <td>0</td>\n",
       "      <td>0</td>\n",
       "    </tr>\n",
       "    <tr>\n",
       "      <th>2</th>\n",
       "      <td>0</td>\n",
       "      <td>0</td>\n",
       "      <td>0</td>\n",
       "      <td>0</td>\n",
       "      <td>0</td>\n",
       "      <td>0</td>\n",
       "      <td>0</td>\n",
       "      <td>0</td>\n",
       "      <td>0</td>\n",
       "      <td>0</td>\n",
       "      <td>...</td>\n",
       "      <td>0</td>\n",
       "      <td>0</td>\n",
       "      <td>0</td>\n",
       "      <td>0</td>\n",
       "      <td>0</td>\n",
       "      <td>0</td>\n",
       "      <td>0</td>\n",
       "      <td>0</td>\n",
       "      <td>0</td>\n",
       "      <td>0</td>\n",
       "    </tr>\n",
       "    <tr>\n",
       "      <th>3</th>\n",
       "      <td>0</td>\n",
       "      <td>0</td>\n",
       "      <td>0</td>\n",
       "      <td>0</td>\n",
       "      <td>0</td>\n",
       "      <td>0</td>\n",
       "      <td>0</td>\n",
       "      <td>0</td>\n",
       "      <td>0</td>\n",
       "      <td>0</td>\n",
       "      <td>...</td>\n",
       "      <td>0</td>\n",
       "      <td>0</td>\n",
       "      <td>0</td>\n",
       "      <td>0</td>\n",
       "      <td>0</td>\n",
       "      <td>0</td>\n",
       "      <td>0</td>\n",
       "      <td>0</td>\n",
       "      <td>0</td>\n",
       "      <td>0</td>\n",
       "    </tr>\n",
       "    <tr>\n",
       "      <th>4</th>\n",
       "      <td>0</td>\n",
       "      <td>0</td>\n",
       "      <td>0</td>\n",
       "      <td>0</td>\n",
       "      <td>0</td>\n",
       "      <td>0</td>\n",
       "      <td>0</td>\n",
       "      <td>0</td>\n",
       "      <td>0</td>\n",
       "      <td>0</td>\n",
       "      <td>...</td>\n",
       "      <td>0</td>\n",
       "      <td>0</td>\n",
       "      <td>0</td>\n",
       "      <td>0</td>\n",
       "      <td>0</td>\n",
       "      <td>0</td>\n",
       "      <td>0</td>\n",
       "      <td>0</td>\n",
       "      <td>0</td>\n",
       "      <td>0</td>\n",
       "    </tr>\n",
       "  </tbody>\n",
       "</table>\n",
       "<p>5 rows × 8385 columns</p>\n",
       "</div>"
      ],
      "text/plain": [
       "   0  008704050406  0089my  0121  01223585236  01223585334  0125698789  \\\n",
       "0  0             0       0     0            0            0           0   \n",
       "1  0             0       0     0            0            0           0   \n",
       "2  0             0       0     0            0            0           0   \n",
       "3  0             0       0     0            0            0           0   \n",
       "4  0             0       0     0            0            0           0   \n",
       "\n",
       "   020603  0207  02070836089  ...  zebra  zed  zeros  zhong  zindgi  zoe  \\\n",
       "0       0     0            0  ...      0    0      0      0       0    0   \n",
       "1       0     0            0  ...      0    0      0      0       0    0   \n",
       "2       0     0            0  ...      0    0      0      0       0    0   \n",
       "3       0     0            0  ...      0    0      0      0       0    0   \n",
       "4       0     0            0  ...      0    0      0      0       0    0   \n",
       "\n",
       "   zogtorius  zoom  zouk  zyada  \n",
       "0          0     0     0      0  \n",
       "1          0     0     0      0  \n",
       "2          0     0     0      0  \n",
       "3          0     0     0      0  \n",
       "4          0     0     0      0  \n",
       "\n",
       "[5 rows x 8385 columns]"
      ]
     },
     "execution_count": 192,
     "metadata": {},
     "output_type": "execute_result"
    }
   ],
   "source": [
    "#collapse-hide\n",
    "vocab_lst = list(sorted(vocab))\n",
    "\n",
    "word_counts = pd.DataFrame({\n",
    "    w: [0] * X_train.sms.shape[0]\n",
    "    for w in vocab_lst\n",
    "})\n",
    "\n",
    "for index, word_lst in X_train.sms.iteritems():\n",
    "    for w in word_lst:\n",
    "        if w in vocab:\n",
    "            word_counts.loc[index, w] += 1\n",
    "\n",
    "word_counts.head()"
   ]
  },
  {
   "cell_type": "markdown",
   "id": "95e4b74d",
   "metadata": {},
   "source": [
    "Above, I have shown what the `X_train` dataframe looks like now. Each row represents a message. Each column represents a unique word in the vocabulary. The cells show the number of times that each word appeared in each message.\n",
    "\n",
    "Now, we can calculate $N_{Spam}, N_{Ham}$:"
   ]
  },
  {
   "cell_type": "code",
   "execution_count": 193,
   "id": "49a7dc95",
   "metadata": {},
   "outputs": [
    {
     "name": "stdout",
     "output_type": "stream",
     "text": [
      "Number of words in spam messages: 14037\n",
      "Number of words in ham messages: 53977\n"
     ]
    }
   ],
   "source": [
    "#collapse-hide\n",
    "def count_n(label, word_counts = word_counts):\n",
    "    n_label = (\n",
    "        word_counts\n",
    "        .loc[y_train == label, :]\n",
    "        # Sum all of the numbers in the df.\n",
    "        .sum()\n",
    "        .sum()\n",
    "    )\n",
    "    return n_label\n",
    "\n",
    "n_label = {}\n",
    "\n",
    "for label in [\"spam\", \"ham\"]:\n",
    "    n_label[label] = count_n(label)\n",
    "\n",
    "print(f\"Number of words in spam messages: {n_label['spam']}\")\n",
    "print(f\"Number of words in ham messages: {n_label['ham']}\")"
   ]
  },
  {
   "cell_type": "markdown",
   "id": "13794f69",
   "metadata": {},
   "source": [
    "The result is that $N_{Spam} = 14037$ and $N_{Ham} = 53977$."
   ]
  },
  {
   "cell_type": "markdown",
   "id": "e9a138fd",
   "metadata": {},
   "source": [
    "### $N_{w_i|Spam}, N_{w_i|Ham}$\n",
    "\n",
    "Finally, we can use the word counts to determine these two parameters for each word."
   ]
  },
  {
   "cell_type": "code",
   "execution_count": 194,
   "id": "a37699cc",
   "metadata": {},
   "outputs": [
    {
     "data": {
      "text/html": [
       "<div>\n",
       "<style scoped>\n",
       "    .dataframe tbody tr th:only-of-type {\n",
       "        vertical-align: middle;\n",
       "    }\n",
       "\n",
       "    .dataframe tbody tr th {\n",
       "        vertical-align: top;\n",
       "    }\n",
       "\n",
       "    .dataframe thead th {\n",
       "        text-align: right;\n",
       "    }\n",
       "</style>\n",
       "<table border=\"1\" class=\"dataframe\">\n",
       "  <thead>\n",
       "    <tr style=\"text-align: right;\">\n",
       "      <th></th>\n",
       "      <th>0</th>\n",
       "      <th>008704050406</th>\n",
       "      <th>0089my</th>\n",
       "      <th>0121</th>\n",
       "      <th>01223585236</th>\n",
       "      <th>01223585334</th>\n",
       "      <th>0125698789</th>\n",
       "      <th>020603</th>\n",
       "      <th>0207</th>\n",
       "      <th>02070836089</th>\n",
       "      <th>...</th>\n",
       "      <th>zebra</th>\n",
       "      <th>zed</th>\n",
       "      <th>zeros</th>\n",
       "      <th>zhong</th>\n",
       "      <th>zindgi</th>\n",
       "      <th>zoe</th>\n",
       "      <th>zogtorius</th>\n",
       "      <th>zoom</th>\n",
       "      <th>zouk</th>\n",
       "      <th>zyada</th>\n",
       "    </tr>\n",
       "    <tr>\n",
       "      <th>label</th>\n",
       "      <th></th>\n",
       "      <th></th>\n",
       "      <th></th>\n",
       "      <th></th>\n",
       "      <th></th>\n",
       "      <th></th>\n",
       "      <th></th>\n",
       "      <th></th>\n",
       "      <th></th>\n",
       "      <th></th>\n",
       "      <th></th>\n",
       "      <th></th>\n",
       "      <th></th>\n",
       "      <th></th>\n",
       "      <th></th>\n",
       "      <th></th>\n",
       "      <th></th>\n",
       "      <th></th>\n",
       "      <th></th>\n",
       "      <th></th>\n",
       "      <th></th>\n",
       "    </tr>\n",
       "  </thead>\n",
       "  <tbody>\n",
       "    <tr>\n",
       "      <th>ham</th>\n",
       "      <td>0</td>\n",
       "      <td>0</td>\n",
       "      <td>0</td>\n",
       "      <td>0</td>\n",
       "      <td>0</td>\n",
       "      <td>0</td>\n",
       "      <td>1</td>\n",
       "      <td>0</td>\n",
       "      <td>0</td>\n",
       "      <td>0</td>\n",
       "      <td>...</td>\n",
       "      <td>0</td>\n",
       "      <td>0</td>\n",
       "      <td>1</td>\n",
       "      <td>1</td>\n",
       "      <td>1</td>\n",
       "      <td>0</td>\n",
       "      <td>1</td>\n",
       "      <td>1</td>\n",
       "      <td>0</td>\n",
       "      <td>1</td>\n",
       "    </tr>\n",
       "    <tr>\n",
       "      <th>spam</th>\n",
       "      <td>3</td>\n",
       "      <td>1</td>\n",
       "      <td>1</td>\n",
       "      <td>1</td>\n",
       "      <td>1</td>\n",
       "      <td>1</td>\n",
       "      <td>0</td>\n",
       "      <td>4</td>\n",
       "      <td>2</td>\n",
       "      <td>1</td>\n",
       "      <td>...</td>\n",
       "      <td>1</td>\n",
       "      <td>4</td>\n",
       "      <td>0</td>\n",
       "      <td>0</td>\n",
       "      <td>0</td>\n",
       "      <td>1</td>\n",
       "      <td>0</td>\n",
       "      <td>0</td>\n",
       "      <td>1</td>\n",
       "      <td>0</td>\n",
       "    </tr>\n",
       "  </tbody>\n",
       "</table>\n",
       "<p>2 rows × 8385 columns</p>\n",
       "</div>"
      ],
      "text/plain": [
       "       0  008704050406  0089my  0121  01223585236  01223585334  0125698789  \\\n",
       "label                                                                        \n",
       "ham    0             0       0     0            0            0           1   \n",
       "spam   3             1       1     1            1            1           0   \n",
       "\n",
       "       020603  0207  02070836089  ...  zebra  zed  zeros  zhong  zindgi  zoe  \\\n",
       "label                             ...                                          \n",
       "ham         0     0            0  ...      0    0      1      1       1    0   \n",
       "spam        4     2            1  ...      1    4      0      0       0    1   \n",
       "\n",
       "       zogtorius  zoom  zouk  zyada  \n",
       "label                                \n",
       "ham            1     1     0      1  \n",
       "spam           0     0     1      0  \n",
       "\n",
       "[2 rows x 8385 columns]"
      ]
     },
     "execution_count": 194,
     "metadata": {},
     "output_type": "execute_result"
    }
   ],
   "source": [
    "#collapse-hide\n",
    "full_train = pd.concat(\n",
    "    [y_train, word_counts],\n",
    "    axis = 1,\n",
    ")\n",
    "\n",
    "n_word_given_label = full_train.pivot_table(\n",
    "    values = vocab_lst,\n",
    "    index = \"label\",\n",
    "    aggfunc = np.sum,\n",
    ")\n",
    "\n",
    "n_word_given_label"
   ]
  },
  {
   "cell_type": "markdown",
   "id": "50af5094",
   "metadata": {},
   "source": [
    "The dataframe above is named `n_word_given_label`. For example, if we want to access $N_{w_i | Spam}$ for the word \"hello\", we can use `n_word_given_label.at[\"spam\", \"hello\"]`. This will give us the value where the \"spam\" row and \"hello\" column intersect."
   ]
  },
  {
   "cell_type": "markdown",
   "id": "8ce7c274",
   "metadata": {},
   "source": [
    "## Predictive Function\n",
    "\n",
    "Now that all of the parameters have been found, we can write a function that will take a new message and classify it as spam or non-spam."
   ]
  },
  {
   "cell_type": "code",
   "execution_count": 195,
   "id": "a99ad01e",
   "metadata": {},
   "outputs": [],
   "source": [
    "def predict(word_lst, out = \"both\", alpha = 1, vocab = vocab, p_label = p_label, n_label = n_label, n_word_given_label = n_word_given_label):\n",
    "    \"\"\"Given the list of words in a message, predict whether it is spam or ham.\n",
    "out: \"both\" to output both probabilities and prediction. \"pred\" to output only the prediction.\"\"\"\n",
    "\n",
    "    # Set up a Series to store results\n",
    "    results = pd.Series(dtype = np.float64)\n",
    "\n",
    "    for label in [\"spam\", \"ham\"]:\n",
    "        # Use P(Spam) or P(Ham)\n",
    "        final = p_label[label]\n",
    "\n",
    "        # Iterate through words in the message.\n",
    "        for w in word_lst:\n",
    "            # Only include a word if it is already in the vocabulary.\n",
    "            if w in vocab:\n",
    "                # Calculate P(w1, w2, ..., wn | Spam) using the formula.\n",
    "                p_word_given_label = (\n",
    "                    (n_word_given_label.at[label, w] + alpha)\n",
    "                    / (n_label[label] + alpha * n_vocab)\n",
    "                )\n",
    "\n",
    "                # Multiply the result into the final value.\n",
    "                final *= p_word_given_label\n",
    "\n",
    "        results[label] = final\n",
    "    \n",
    "    # The prediction is the label with the higher probability in the Series.\n",
    "    # If the probabilities are equal, the prediction is \"uncertain\"\n",
    "    if results[\"spam\"] == results[\"ham\"]:\n",
    "        prediction = \"uncertain\"\n",
    "    else:\n",
    "        prediction = results.idxmax()\n",
    "\n",
    "    if out == \"both\":\n",
    "        return results, prediction\n",
    "    elif out == \"pred\":\n",
    "        return prediction"
   ]
  },
  {
   "cell_type": "markdown",
   "id": "867e3041",
   "metadata": {},
   "source": [
    "Let us try using this function to predict whether a message is spam or ham. We will use this example: \"you won a prize claim it now by sending credit card details\"."
   ]
  },
  {
   "cell_type": "code",
   "execution_count": 196,
   "id": "2f942c76",
   "metadata": {},
   "outputs": [
    {
     "name": "stdout",
     "output_type": "stream",
     "text": [
      "Results:\n",
      "P(spam | message) is proportional to 2.3208952599406518e-35\n",
      "P(ham | message) is proportional to 1.8781562825001382e-41\n",
      "This message is predicted to be spam.\n"
     ]
    }
   ],
   "source": [
    "#collapse-hide\n",
    "results, prediction = predict(\"you won a prize claim it now by sending credit card details\".split())\n",
    "\n",
    "print(\"Results:\")\n",
    "for label, value in results.iteritems():\n",
    "    print(f\"P({label} | message) is proportional to {value}\")\n",
    "print(f\"This message is predicted to be {prediction}.\")"
   ]
  },
  {
   "cell_type": "markdown",
   "id": "3101be84",
   "metadata": {},
   "source": [
    "The algorithm determined that $P(Spam|w_1, w_2, \\dots , w_n) \\propto 2.32 \\cdot 10^{-35}$, whereas $P(Ham|w_1, w_2, \\dots , w_n) \\propto 1.88 \\cdot 10^{-41}$. Since the probability for spam was higher, it predicted that the message was spam."
   ]
  },
  {
   "cell_type": "markdown",
   "id": "11ad70ca",
   "metadata": {},
   "source": [
    "## Model Evaluation\n",
    "\n",
    "The final step is to evaluate the predictive function. We will use it to predict labels for the messages in the testing set. Then, we will show the predicted labels side-by-side with the real labels."
   ]
  },
  {
   "cell_type": "code",
   "execution_count": 200,
   "id": "e05295fa",
   "metadata": {},
   "outputs": [
    {
     "data": {
      "text/html": [
       "<div>\n",
       "<style scoped>\n",
       "    .dataframe tbody tr th:only-of-type {\n",
       "        vertical-align: middle;\n",
       "    }\n",
       "\n",
       "    .dataframe tbody tr th {\n",
       "        vertical-align: top;\n",
       "    }\n",
       "\n",
       "    .dataframe thead th {\n",
       "        text-align: right;\n",
       "    }\n",
       "</style>\n",
       "<table border=\"1\" class=\"dataframe\">\n",
       "  <thead>\n",
       "    <tr style=\"text-align: right;\">\n",
       "      <th></th>\n",
       "      <th>label</th>\n",
       "      <th>prediction</th>\n",
       "      <th>sms</th>\n",
       "    </tr>\n",
       "  </thead>\n",
       "  <tbody>\n",
       "    <tr>\n",
       "      <th>0</th>\n",
       "      <td>spam</td>\n",
       "      <td>spam</td>\n",
       "      <td>England v Macedonia - dont miss the goals/team...</td>\n",
       "    </tr>\n",
       "    <tr>\n",
       "      <th>1</th>\n",
       "      <td>spam</td>\n",
       "      <td>spam</td>\n",
       "      <td>SMS. ac Sptv: The New Jersey Devils and the De...</td>\n",
       "    </tr>\n",
       "    <tr>\n",
       "      <th>2</th>\n",
       "      <td>spam</td>\n",
       "      <td>spam</td>\n",
       "      <td>Please call our customer service representativ...</td>\n",
       "    </tr>\n",
       "    <tr>\n",
       "      <th>3</th>\n",
       "      <td>spam</td>\n",
       "      <td>spam</td>\n",
       "      <td>URGENT! Your Mobile No. was awarded £2000 Bonu...</td>\n",
       "    </tr>\n",
       "    <tr>\n",
       "      <th>4</th>\n",
       "      <td>spam</td>\n",
       "      <td>spam</td>\n",
       "      <td>Sunshine Quiz Wkly Q! Win a top Sony DVD playe...</td>\n",
       "    </tr>\n",
       "  </tbody>\n",
       "</table>\n",
       "</div>"
      ],
      "text/plain": [
       "  label prediction                                                sms\n",
       "0  spam       spam  England v Macedonia - dont miss the goals/team...\n",
       "1  spam       spam  SMS. ac Sptv: The New Jersey Devils and the De...\n",
       "2  spam       spam  Please call our customer service representativ...\n",
       "3  spam       spam  URGENT! Your Mobile No. was awarded £2000 Bonu...\n",
       "4  spam       spam  Sunshine Quiz Wkly Q! Win a top Sony DVD playe..."
      ]
     },
     "execution_count": 200,
     "metadata": {},
     "output_type": "execute_result"
    }
   ],
   "source": [
    "#collapse-hide\n",
    "# Preprocess testing messages\n",
    "X_test_preprocessed = preprocess_messages(X_test.sms)\n",
    "\n",
    "# Make predictions\n",
    "y_pred = X_test_preprocessed.apply(predict, out = \"pred\")\n",
    "y_pred.name = \"prediction\"\n",
    "\n",
    "# Concatenate\n",
    "full_test = pd.concat(\n",
    "    [y_test, y_pred, X_test],\n",
    "    axis = 1\n",
    ")\n",
    "\n",
    "\n",
    "full_test.head()"
   ]
  },
  {
   "cell_type": "markdown",
   "id": "ecae71e0",
   "metadata": {},
   "source": [
    "The table above shows the first 5 rows of the testing set. We can see that the algorithm correctly predicted that the first 5 rows were spam.\n",
    "\n",
    "We will now calculate the overall accuracy of the model by dividing the number of correct predictions by the total number of predictions."
   ]
  },
  {
   "cell_type": "code",
   "execution_count": 203,
   "id": "351d806d",
   "metadata": {},
   "outputs": [
    {
     "name": "stdout",
     "output_type": "stream",
     "text": [
      "Accuracy: 98.74%\n"
     ]
    }
   ],
   "source": [
    "#collapse-hide\n",
    "acc = y_test.eq(y_pred).sum() / y_pred.shape[0] * 100\n",
    "\n",
    "print(f\"Accuracy: {acc:.2f}%\")"
   ]
  },
  {
   "cell_type": "markdown",
   "id": "836d11d9",
   "metadata": {},
   "source": [
    "The model turned out to have a very high accuracy of 98.74%. This shows that it is effective at filtering spam from non-spam.\n",
    "\n",
    "However, considering that spam and non-spam did not have equal representation in the data, with only 13% of all messages being spam, the accuracy may be misleading. Thus, let us use other evaluation metrics such as precision, recall, and F1."
   ]
  },
  {
   "cell_type": "markdown",
   "id": "6ef021f4",
   "metadata": {},
   "source": [
    "# Appendix\n",
    "\n",
    "Here, I explain how the multinomial naive bayes algorithm was derived from the Bayes Theorem. Given two events $A$ and $B$, we can use the theorem to determine the probability that $B$ happened given that $A$ happened. This probability is written as $P(B|A)$.\n",
    "\n",
    "$P(B|A) = \\frac{P(B) \\cdot P(A|B)}{\\Sigma_{i = 1}^n (P(B_i) \\cdot P(A|B_i))}$\n",
    "\n",
    "In this case, $B_1$ is the event that the message is non-spam, and $B_2$ is the event that it is spam. $B$ can refer to either $B_1$ or $B_2$, depending on which probability we want to calculate. Also, $A$ refers to the specific contents of one message.\n",
    "\n",
    "In order to make things clearer, let us say that $Spam$ is the event that the message is spam, and $Ham$ is the event that the message is non-spam.\n",
    "\n",
    "Then, let us expand event $A$ (the message itself) in order to consider the individual words inside it. For example, the first word in a message can be labeled $w_1$. If we have a total of $n$ words, then the words can be labeled as $w_1, w_2, \\dots , w_n$.\n",
    "\n",
    "Thus, we can rewrite the equation. Here is the probability of a given message being spam:\n",
    "\n",
    "$P(Spam|w_1, w_2, \\dots , w_n) = \\frac{P(Spam) \\cdot P(w_1, w_2, \\dots , w_n|Spam)}{\\Sigma_{i = 1}^n (P(B_i) \\cdot P(w_1, w_2, \\dots , w_n|B_i))}$\n",
    "\n",
    "Here is the probability of a given message being non-spam:\n",
    "\n",
    "$P(Ham|w_1, w_2, \\dots , w_n) = \\frac{P(Ham) \\cdot P(w_1, w_2, \\dots , w_n|Ham)}{\\Sigma_{i = 1}^n (P(B_i) \\cdot P(w_1, w_2, \\dots , w_n|B_i))}$\n",
    "\n",
    "Notice that the denominators are the same. Since we only want to compare these two probabilities, we can skip calculating the denominator and just calculate the numerators. We can thus rewrite the equation as follows. Note that the $\\propto$ symbol is used instead of $=$ because the two quantities are not equal but directly proportional.\n",
    "\n",
    "$P(Spam|w_1, w_2, \\dots , w_n) \\propto P(Spam) \\cdot P(w_1, w_2, \\dots , w_n|Spam)$\n",
    "\n",
    "The first factor, $P(Spam)$, is easy to find, as it is simply the number of spam messages divided by the total number of messages. However, $P(w_1, w_2, \\dots , w_n|Spam)$ needs to be further expanded.\n",
    "\n",
    "If we make the assumption that the probability of each word is independent of the probability of the other words, we can use the multiplication rule. The assumption of independence is what makes the algorithm \"naive,\" as it usually doesn't hold true in reality. However, the algorithm is still useful for predictions despite this.\n",
    "\n",
    "$P(Spam) \\cdot P(w_1, w_2, \\dots , w_n|Spam) \\\\ = P(Spam) \\cdot P(w_1 \\cap w_2 \\cap \\dots \\cap w_n | Spam) \\\\ = P(Spam) \\cdot P(w_1|Spam) \\cdot P(w_2|Spam) \\cdot \\dots \\cdot P(w_n|Spam)$\n",
    "\n",
    "Note that we still have to find the probability of each word given $Spam$ because we assume that the presence of each word is dependent on $Spam$.\n",
    "\n",
    "Thus, the final formula is:\n",
    "\n",
    "$P(Spam|w_1, w_2, \\dots , w_n) \\propto P(Spam) \\cdot \\Pi_{i=1}^n P(w_i|Spam)$\n",
    "\n",
    "Likewise, the formula for $Ham$ is:\n",
    "\n",
    "$P(Ham|w_1, w_2, \\dots , w_n) \\propto P(Ham) \\cdot \\Pi_{i=1}^n P(w_i|Ham)$"
   ]
  }
 ],
 "metadata": {
  "kernelspec": {
   "display_name": "Python 3",
   "language": "python",
   "name": "python3"
  },
  "language_info": {
   "codemirror_mode": {
    "name": "ipython",
    "version": 3
   },
   "file_extension": ".py",
   "mimetype": "text/x-python",
   "name": "python",
   "nbconvert_exporter": "python",
   "pygments_lexer": "ipython3",
   "version": "3.8.11"
  }
 },
 "nbformat": 4,
 "nbformat_minor": 5
}
